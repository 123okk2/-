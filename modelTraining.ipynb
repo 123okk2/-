{
 "cells": [
  {
   "cell_type": "code",
   "execution_count": 1,
   "metadata": {},
   "outputs": [
    {
     "name": "stdout",
     "output_type": "stream",
     "text": [
      "done\n"
     ]
    }
   ],
   "source": [
    "import numpy as np\n",
    "import pandas as pd\n",
    "import warnings\n",
    "warnings.filterwarnings('ignore')\n",
    "\n",
    "eco_data = pd.read_csv('data/eco.csv', encoding='utf-8')\n",
    "it_data = pd.read_csv('data/it.csv', encoding='utf-8')\n",
    "lif_data = pd.read_csv('data/lif.csv', encoding='utf-8')\n",
    "pol_data = pd.read_csv('data/pol.csv', encoding='utf-8')\n",
    "soc_data = pd.read_csv('data/soc.csv', encoding='utf-8')\n",
    "\n",
    "total_data = pd.concat([eco_data, it_data, lif_data, pol_data, soc_data])\n",
    "\n",
    "print('done')"
   ]
  },
  {
   "cell_type": "markdown",
   "metadata": {},
   "source": [
    "# 전처리"
   ]
  },
  {
   "cell_type": "code",
   "execution_count": 2,
   "metadata": {},
   "outputs": [
    {
     "name": "stdout",
     "output_type": "stream",
     "text": [
      "done\n"
     ]
    }
   ],
   "source": [
    "from konlpy.tag import Twitter\n",
    "from sklearn.feature_extraction.text import TfidfVectorizer\n",
    "\n",
    "data_x = total_data['title'].values\n",
    "data_y = total_data['type'].values\n",
    "\n",
    "twitter = Twitter()\n",
    "tfidf_vect = TfidfVectorizer(tokenizer = lambda x: twitter.morphs(x),\n",
    "                            ngram_range = (1,2), max_df=0.9)\n",
    "tfidf_vect.fit(data_x)\n",
    "data_x = tfidf_vect.transform(data_x)\n",
    "\n",
    "input_size = list(data_x.shape)\n",
    "\n",
    "print('done')"
   ]
  },
  {
   "cell_type": "markdown",
   "metadata": {},
   "source": [
    "# 모델"
   ]
  },
  {
   "cell_type": "code",
   "execution_count": 6,
   "metadata": {
    "scrolled": true
   },
   "outputs": [
    {
     "name": "stdout",
     "output_type": "stream",
     "text": [
      "Fitting 5 folds for each of 90 candidates, totalling 450 fits\n"
     ]
    },
    {
     "name": "stderr",
     "output_type": "stream",
     "text": [
      "[Parallel(n_jobs=1)]: Using backend SequentialBackend with 1 concurrent workers.\n",
      "[Parallel(n_jobs=1)]: Done 450 out of 450 | elapsed:  5.0min finished\n"
     ]
    },
    {
     "name": "stdout",
     "output_type": "stream",
     "text": [
      "{'C': 6.700000000000005} 0.7948\n"
     ]
    }
   ],
   "source": [
    "from sklearn.linear_model import LogisticRegression\n",
    "from sklearn.model_selection import GridSearchCV\n",
    "\n",
    "lg_clf = LogisticRegression(random_state=0)\n",
    "\n",
    "# 최적화의 파라미터 검색 \n",
    "params = { 'C': list(np.arange(1,10,0.1)) }\n",
    "\n",
    "grid_cv = GridSearchCV(lg_clf , param_grid=params , cv=5 ,scoring='accuracy', verbose=1 )\n",
    "grid_cv.fit(data_x , data_y )\n",
    "\n",
    "print(grid_cv.best_params_ , round(grid_cv.best_score_,4))"
   ]
  },
  {
   "cell_type": "code",
   "execution_count": 36,
   "metadata": {},
   "outputs": [
    {
     "name": "stdout",
     "output_type": "stream",
     "text": [
      "뉴스 기사 입력 (0 입력시 종료) : 청와대, 문 대통령 부부 반려동물과의 일상 SNS 공개\n",
      "정치\n",
      "뉴스 기사 입력 (0 입력시 종료) : '로켓 성장' 쿠팡 미국 뉴욕증시 상장 본격화\n",
      "경제\n",
      "뉴스 기사 입력 (0 입력시 종료) : 대구·경북 대체로 맑음…낮 14도~20도\n",
      "사회\n",
      "뉴스 기사 입력 (0 입력시 종료) : 가족들 찾지 않는 비대면 설 연휴... \"노인 음주 주의해야\"\n",
      "생활\n",
      "뉴스 기사 입력 (0 입력시 종료) : 한국에서 인기인 아이폰12 미니, 해외에서는 생산중단 위기…왜?\n",
      "IT\n",
      "뉴스 기사 입력 (0 입력시 종료) : [넘버스]쌍용양회, 친환경 기업 변신의 이면\n",
      "정치\n",
      "뉴스 기사 입력 (0 입력시 종료) : '미스트롯2' 김태연, 전 시즌 최고점…'여자 정동원' 탄생?\n",
      "생활\n",
      "뉴스 기사 입력 (0 입력시 종료) : \"설 연휴 영향\" 나흘 만에 확진자 300명대…거리두기는 완화 [종합]\n",
      "사회\n",
      "뉴스 기사 입력 (0 입력시 종료) : 돈 떼먹은 원청사, 설 앞두고 돈 보낸 이유가?\n",
      "경제\n",
      "뉴스 기사 입력 (0 입력시 종료) : 문 대통령, ‘일본어 제외’ 4개국어 새해인사…이유 있었다[이슈픽]\n",
      "정치\n",
      "뉴스 기사 입력 (0 입력시 종료) : 0\n"
     ]
    }
   ],
   "source": [
    "import re\n",
    "\n",
    "while True :\n",
    "\n",
    "    title_input = input('뉴스 기사 입력 (0 입력시 종료) : ')\n",
    "    if title_input == '0' : break\n",
    "        \n",
    "    title_input = re.sub('[^ㄱ-ㅎㅏ-ㅣ가-힣 ]', '', title_input) #한글, 띄어쓰기 빼고 다 제거\n",
    "    title_input = [title_input, ]\n",
    "    \n",
    "    title_input =  tfidf_vect.transform(title_input)\n",
    "    \n",
    "    class_list = ['정치', '경제', '사회', '생활', 'IT']\n",
    "    pred = grid_cv.best_estimator_.predict(title_input)\n",
    "    \n",
    "    print(class_list[pred[0]])"
   ]
  }
 ],
 "metadata": {
  "kernelspec": {
   "display_name": "Python 3",
   "language": "python",
   "name": "python3"
  },
  "language_info": {
   "codemirror_mode": {
    "name": "ipython",
    "version": 3
   },
   "file_extension": ".py",
   "mimetype": "text/x-python",
   "name": "python",
   "nbconvert_exporter": "python",
   "pygments_lexer": "ipython3",
   "version": "3.8.5"
  }
 },
 "nbformat": 4,
 "nbformat_minor": 5
}
